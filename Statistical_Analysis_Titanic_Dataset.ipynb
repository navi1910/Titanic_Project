{
 "cells": [
  {
   "cell_type": "code",
   "execution_count": 1,
   "id": "b4a180ac",
   "metadata": {
    "_cell_guid": "b1076dfc-b9ad-4769-8c92-a6c4dae69d19",
    "_uuid": "8f2839f25d086af736a60e9eeb907d3b93b6e0e5",
    "execution": {
     "iopub.execute_input": "2022-09-24T08:59:21.756906Z",
     "iopub.status.busy": "2022-09-24T08:59:21.756198Z",
     "iopub.status.idle": "2022-09-24T08:59:21.768391Z",
     "shell.execute_reply": "2022-09-24T08:59:21.767624Z"
    },
    "papermill": {
     "duration": 0.028945,
     "end_time": "2022-09-24T08:59:21.770820",
     "exception": false,
     "start_time": "2022-09-24T08:59:21.741875",
     "status": "completed"
    },
    "tags": []
   },
   "outputs": [
    {
     "name": "stdout",
     "output_type": "stream",
     "text": [
      "/kaggle/input/titanic/train.csv\n",
      "/kaggle/input/titanic/test.csv\n",
      "/kaggle/input/titanic/gender_submission.csv\n"
     ]
    }
   ],
   "source": [
    "# This Python 3 environment comes with many helpful analytics libraries installed\n",
    "# It is defined by the kaggle/python Docker image: https://github.com/kaggle/docker-python\n",
    "# For example, here's several helpful packages to load\n",
    "\n",
    "import numpy as np # linear algebra\n",
    "import pandas as pd # data processing, CSV file I/O (e.g. pd.read_csv)\n",
    "\n",
    "# Input data files are available in the read-only \"../input/\" directory\n",
    "# For example, running this (by clicking run or pressing Shift+Enter) will list all files under the input directory\n",
    "\n",
    "import os\n",
    "for dirname, _, filenames in os.walk('/kaggle/input'):\n",
    "    for filename in filenames:\n",
    "        print(os.path.join(dirname, filename))\n",
    "\n",
    "# You can write up to 20GB to the current directory (/kaggle/working/) that gets preserved as output when you create a version using \"Save & Run All\" \n",
    "# You can also write temporary files to /kaggle/temp/, but they won't be saved outside of the current session"
   ]
  },
  {
   "cell_type": "markdown",
   "id": "d6f9b08c",
   "metadata": {
    "papermill": {
     "duration": 0.011162,
     "end_time": "2022-09-24T08:59:21.793626",
     "exception": false,
     "start_time": "2022-09-24T08:59:21.782464",
     "status": "completed"
    },
    "tags": []
   },
   "source": [
    "### Imports"
   ]
  },
  {
   "cell_type": "code",
   "execution_count": 2,
   "id": "9893bcbd",
   "metadata": {
    "execution": {
     "iopub.execute_input": "2022-09-24T08:59:21.820231Z",
     "iopub.status.busy": "2022-09-24T08:59:21.819509Z",
     "iopub.status.idle": "2022-09-24T08:59:22.906430Z",
     "shell.execute_reply": "2022-09-24T08:59:22.905555Z"
    },
    "papermill": {
     "duration": 1.103865,
     "end_time": "2022-09-24T08:59:22.908942",
     "exception": false,
     "start_time": "2022-09-24T08:59:21.805077",
     "status": "completed"
    },
    "tags": []
   },
   "outputs": [],
   "source": [
    "import pandas as pd\n",
    "import numpy as np\n",
    "import seaborn as sns\n",
    "from scipy.stats import boxcox\n",
    "import scipy.stats as sct\n",
    "from scipy.stats import chi2_contingency"
   ]
  },
  {
   "cell_type": "code",
   "execution_count": 3,
   "id": "d4803235",
   "metadata": {
    "execution": {
     "iopub.execute_input": "2022-09-24T08:59:22.935339Z",
     "iopub.status.busy": "2022-09-24T08:59:22.934611Z",
     "iopub.status.idle": "2022-09-24T08:59:22.956079Z",
     "shell.execute_reply": "2022-09-24T08:59:22.955093Z"
    },
    "papermill": {
     "duration": 0.037421,
     "end_time": "2022-09-24T08:59:22.958498",
     "exception": false,
     "start_time": "2022-09-24T08:59:22.921077",
     "status": "completed"
    },
    "tags": []
   },
   "outputs": [],
   "source": [
    "df = pd.read_csv('../input/titanic/train.csv')"
   ]
  },
  {
   "cell_type": "code",
   "execution_count": 4,
   "id": "eb3a2d24",
   "metadata": {
    "execution": {
     "iopub.execute_input": "2022-09-24T08:59:22.984326Z",
     "iopub.status.busy": "2022-09-24T08:59:22.983941Z",
     "iopub.status.idle": "2022-09-24T08:59:23.007960Z",
     "shell.execute_reply": "2022-09-24T08:59:23.006813Z"
    },
    "papermill": {
     "duration": 0.039628,
     "end_time": "2022-09-24T08:59:23.010229",
     "exception": false,
     "start_time": "2022-09-24T08:59:22.970601",
     "status": "completed"
    },
    "tags": []
   },
   "outputs": [
    {
     "data": {
      "text/html": [
       "<div>\n",
       "<style scoped>\n",
       "    .dataframe tbody tr th:only-of-type {\n",
       "        vertical-align: middle;\n",
       "    }\n",
       "\n",
       "    .dataframe tbody tr th {\n",
       "        vertical-align: top;\n",
       "    }\n",
       "\n",
       "    .dataframe thead th {\n",
       "        text-align: right;\n",
       "    }\n",
       "</style>\n",
       "<table border=\"1\" class=\"dataframe\">\n",
       "  <thead>\n",
       "    <tr style=\"text-align: right;\">\n",
       "      <th></th>\n",
       "      <th>PassengerId</th>\n",
       "      <th>Survived</th>\n",
       "      <th>Pclass</th>\n",
       "      <th>Name</th>\n",
       "      <th>Sex</th>\n",
       "      <th>Age</th>\n",
       "      <th>SibSp</th>\n",
       "      <th>Parch</th>\n",
       "      <th>Ticket</th>\n",
       "      <th>Fare</th>\n",
       "      <th>Cabin</th>\n",
       "      <th>Embarked</th>\n",
       "    </tr>\n",
       "  </thead>\n",
       "  <tbody>\n",
       "    <tr>\n",
       "      <th>0</th>\n",
       "      <td>1</td>\n",
       "      <td>0</td>\n",
       "      <td>3</td>\n",
       "      <td>Braund, Mr. Owen Harris</td>\n",
       "      <td>male</td>\n",
       "      <td>22.0</td>\n",
       "      <td>1</td>\n",
       "      <td>0</td>\n",
       "      <td>A/5 21171</td>\n",
       "      <td>7.2500</td>\n",
       "      <td>NaN</td>\n",
       "      <td>S</td>\n",
       "    </tr>\n",
       "    <tr>\n",
       "      <th>1</th>\n",
       "      <td>2</td>\n",
       "      <td>1</td>\n",
       "      <td>1</td>\n",
       "      <td>Cumings, Mrs. John Bradley (Florence Briggs Th...</td>\n",
       "      <td>female</td>\n",
       "      <td>38.0</td>\n",
       "      <td>1</td>\n",
       "      <td>0</td>\n",
       "      <td>PC 17599</td>\n",
       "      <td>71.2833</td>\n",
       "      <td>C85</td>\n",
       "      <td>C</td>\n",
       "    </tr>\n",
       "    <tr>\n",
       "      <th>2</th>\n",
       "      <td>3</td>\n",
       "      <td>1</td>\n",
       "      <td>3</td>\n",
       "      <td>Heikkinen, Miss. Laina</td>\n",
       "      <td>female</td>\n",
       "      <td>26.0</td>\n",
       "      <td>0</td>\n",
       "      <td>0</td>\n",
       "      <td>STON/O2. 3101282</td>\n",
       "      <td>7.9250</td>\n",
       "      <td>NaN</td>\n",
       "      <td>S</td>\n",
       "    </tr>\n",
       "    <tr>\n",
       "      <th>3</th>\n",
       "      <td>4</td>\n",
       "      <td>1</td>\n",
       "      <td>1</td>\n",
       "      <td>Futrelle, Mrs. Jacques Heath (Lily May Peel)</td>\n",
       "      <td>female</td>\n",
       "      <td>35.0</td>\n",
       "      <td>1</td>\n",
       "      <td>0</td>\n",
       "      <td>113803</td>\n",
       "      <td>53.1000</td>\n",
       "      <td>C123</td>\n",
       "      <td>S</td>\n",
       "    </tr>\n",
       "    <tr>\n",
       "      <th>4</th>\n",
       "      <td>5</td>\n",
       "      <td>0</td>\n",
       "      <td>3</td>\n",
       "      <td>Allen, Mr. William Henry</td>\n",
       "      <td>male</td>\n",
       "      <td>35.0</td>\n",
       "      <td>0</td>\n",
       "      <td>0</td>\n",
       "      <td>373450</td>\n",
       "      <td>8.0500</td>\n",
       "      <td>NaN</td>\n",
       "      <td>S</td>\n",
       "    </tr>\n",
       "  </tbody>\n",
       "</table>\n",
       "</div>"
      ],
      "text/plain": [
       "   PassengerId  Survived  Pclass  \\\n",
       "0            1         0       3   \n",
       "1            2         1       1   \n",
       "2            3         1       3   \n",
       "3            4         1       1   \n",
       "4            5         0       3   \n",
       "\n",
       "                                                Name     Sex   Age  SibSp  \\\n",
       "0                            Braund, Mr. Owen Harris    male  22.0      1   \n",
       "1  Cumings, Mrs. John Bradley (Florence Briggs Th...  female  38.0      1   \n",
       "2                             Heikkinen, Miss. Laina  female  26.0      0   \n",
       "3       Futrelle, Mrs. Jacques Heath (Lily May Peel)  female  35.0      1   \n",
       "4                           Allen, Mr. William Henry    male  35.0      0   \n",
       "\n",
       "   Parch            Ticket     Fare Cabin Embarked  \n",
       "0      0         A/5 21171   7.2500   NaN        S  \n",
       "1      0          PC 17599  71.2833   C85        C  \n",
       "2      0  STON/O2. 3101282   7.9250   NaN        S  \n",
       "3      0            113803  53.1000  C123        S  \n",
       "4      0            373450   8.0500   NaN        S  "
      ]
     },
     "execution_count": 4,
     "metadata": {},
     "output_type": "execute_result"
    }
   ],
   "source": [
    "df.head()"
   ]
  },
  {
   "cell_type": "code",
   "execution_count": 5,
   "id": "94ae1aa8",
   "metadata": {
    "execution": {
     "iopub.execute_input": "2022-09-24T08:59:23.037780Z",
     "iopub.status.busy": "2022-09-24T08:59:23.036755Z",
     "iopub.status.idle": "2022-09-24T08:59:23.050780Z",
     "shell.execute_reply": "2022-09-24T08:59:23.049683Z"
    },
    "papermill": {
     "duration": 0.031071,
     "end_time": "2022-09-24T08:59:23.053100",
     "exception": false,
     "start_time": "2022-09-24T08:59:23.022029",
     "status": "completed"
    },
    "tags": []
   },
   "outputs": [
    {
     "data": {
      "text/plain": [
       "count    891.000000\n",
       "mean       0.383838\n",
       "std        0.486592\n",
       "min        0.000000\n",
       "25%        0.000000\n",
       "50%        0.000000\n",
       "75%        1.000000\n",
       "max        1.000000\n",
       "Name: Survived, dtype: float64"
      ]
     },
     "execution_count": 5,
     "metadata": {},
     "output_type": "execute_result"
    }
   ],
   "source": [
    "#Survived -> 0 = No, 1 = Yes\n",
    "df['Survived'].describe()"
   ]
  },
  {
   "cell_type": "code",
   "execution_count": 6,
   "id": "80a9281d",
   "metadata": {
    "execution": {
     "iopub.execute_input": "2022-09-24T08:59:23.079112Z",
     "iopub.status.busy": "2022-09-24T08:59:23.078731Z",
     "iopub.status.idle": "2022-09-24T08:59:23.089319Z",
     "shell.execute_reply": "2022-09-24T08:59:23.088228Z"
    },
    "papermill": {
     "duration": 0.026284,
     "end_time": "2022-09-24T08:59:23.091676",
     "exception": false,
     "start_time": "2022-09-24T08:59:23.065392",
     "status": "completed"
    },
    "tags": []
   },
   "outputs": [
    {
     "data": {
      "text/plain": [
       "0    549\n",
       "1    342\n",
       "Name: Survived, dtype: int64"
      ]
     },
     "execution_count": 6,
     "metadata": {},
     "output_type": "execute_result"
    }
   ],
   "source": [
    "df['Survived'].value_counts()\n",
    "# Many passangers did not survive"
   ]
  },
  {
   "cell_type": "code",
   "execution_count": 7,
   "id": "3b1e5403",
   "metadata": {
    "execution": {
     "iopub.execute_input": "2022-09-24T08:59:23.118114Z",
     "iopub.status.busy": "2022-09-24T08:59:23.117063Z",
     "iopub.status.idle": "2022-09-24T08:59:23.344591Z",
     "shell.execute_reply": "2022-09-24T08:59:23.343524Z"
    },
    "papermill": {
     "duration": 0.24328,
     "end_time": "2022-09-24T08:59:23.347059",
     "exception": false,
     "start_time": "2022-09-24T08:59:23.103779",
     "status": "completed"
    },
    "tags": []
   },
   "outputs": [
    {
     "name": "stderr",
     "output_type": "stream",
     "text": [
      "/opt/conda/lib/python3.7/site-packages/seaborn/_decorators.py:43: FutureWarning: Pass the following variable as a keyword arg: x. From version 0.12, the only valid positional argument will be `data`, and passing other arguments without an explicit keyword will result in an error or misinterpretation.\n",
      "  FutureWarning\n"
     ]
    },
    {
     "data": {
      "text/plain": [
       "[Text(0.5, 1.0, 'Survived -> 0 = No, 1 = Yes')]"
      ]
     },
     "execution_count": 7,
     "metadata": {},
     "output_type": "execute_result"
    },
    {
     "data": {
      "image/png": "[encoded data removed]",
      "text/plain": [
       "<Figure size 432x288 with 1 Axes>"
      ]
     },
     "metadata": {
      "needs_background": "light"
     },
     "output_type": "display_data"
    }
   ],
   "source": [
    "sur = sns.countplot(df['Survived'])\n",
    "sur.set(title = 'Survived -> 0 = No, 1 = Yes')"
   ]
  },
  {
   "cell_type": "code",
   "execution_count": 8,
   "id": "6b2f34a3",
   "metadata": {
    "execution": {
     "iopub.execute_input": "2022-09-24T08:59:23.375190Z",
     "iopub.status.busy": "2022-09-24T08:59:23.374783Z",
     "iopub.status.idle": "2022-09-24T08:59:23.391628Z",
     "shell.execute_reply": "2022-09-24T08:59:23.390469Z"
    },
    "papermill": {
     "duration": 0.033607,
     "end_time": "2022-09-24T08:59:23.393899",
     "exception": false,
     "start_time": "2022-09-24T08:59:23.360292",
     "status": "completed"
    },
    "tags": []
   },
   "outputs": [
    {
     "name": "stdout",
     "output_type": "stream",
     "text": [
      "<class 'pandas.core.frame.DataFrame'>\n",
      "RangeIndex: 891 entries, 0 to 890\n",
      "Data columns (total 12 columns):\n",
      " #   Column       Non-Null Count  Dtype  \n",
      "---  ------       --------------  -----  \n",
      " 0   PassengerId  891 non-null    int64  \n",
      " 1   Survived     891 non-null    int64  \n",
      " 2   Pclass       891 non-null    int64  \n",
      " 3   Name         891 non-null    object \n",
      " 4   Sex          891 non-null    object \n",
      " 5   Age          714 non-null    float64\n",
      " 6   SibSp        891 non-null    int64  \n",
      " 7   Parch        891 non-null    int64  \n",
      " 8   Ticket       891 non-null    object \n",
      " 9   Fare         891 non-null    float64\n",
      " 10  Cabin        204 non-null    object \n",
      " 11  Embarked     889 non-null    object \n",
      "dtypes: float64(2), int64(5), object(5)\n",
      "memory usage: 83.7+ KB\n"
     ]
    }
   ],
   "source": [
    "df.info()"
   ]
  },
  {
   "cell_type": "code",
   "execution_count": 9,
   "id": "8d844692",
   "metadata": {
    "execution": {
     "iopub.execute_input": "2022-09-24T08:59:23.422438Z",
     "iopub.status.busy": "2022-09-24T08:59:23.421331Z",
     "iopub.status.idle": "2022-09-24T08:59:23.431173Z",
     "shell.execute_reply": "2022-09-24T08:59:23.430018Z"
    },
    "papermill": {
     "duration": 0.025705,
     "end_time": "2022-09-24T08:59:23.433546",
     "exception": false,
     "start_time": "2022-09-24T08:59:23.407841",
     "status": "completed"
    },
    "tags": []
   },
   "outputs": [
    {
     "data": {
      "text/plain": [
       "3    491\n",
       "1    216\n",
       "2    184\n",
       "Name: Pclass, dtype: int64"
      ]
     },
     "execution_count": 9,
     "metadata": {},
     "output_type": "execute_result"
    }
   ],
   "source": [
    "# Ticket class -> 1 = 1st, 2 = 2nd, 3 = 3rd\n",
    "df['Pclass'].value_counts()"
   ]
  },
  {
   "cell_type": "code",
   "execution_count": 10,
   "id": "3647d1fc",
   "metadata": {
    "execution": {
     "iopub.execute_input": "2022-09-24T08:59:23.464339Z",
     "iopub.status.busy": "2022-09-24T08:59:23.463317Z",
     "iopub.status.idle": "2022-09-24T08:59:23.659676Z",
     "shell.execute_reply": "2022-09-24T08:59:23.658497Z"
    },
    "papermill": {
     "duration": 0.214572,
     "end_time": "2022-09-24T08:59:23.662213",
     "exception": false,
     "start_time": "2022-09-24T08:59:23.447641",
     "status": "completed"
    },
    "tags": []
   },
   "outputs": [
    {
     "name": "stderr",
     "output_type": "stream",
     "text": [
      "/opt/conda/lib/python3.7/site-packages/seaborn/_decorators.py:43: FutureWarning: Pass the following variable as a keyword arg: x. From version 0.12, the only valid positional argument will be `data`, and passing other arguments without an explicit keyword will result in an error or misinterpretation.\n",
      "  FutureWarning\n"
     ]
    },
    {
     "data": {
      "text/plain": [
       "[Text(0.5, 1.0, 'Ticket class -> 1 = 1st, 2 = 2nd, 3 = 3rd')]"
      ]
     },
     "execution_count": 10,
     "metadata": {},
     "output_type": "execute_result"
    },
    {
     "data": {
      "image/png": "[encoded data removed]",
      "text/plain": [
       "<Figure size 432x288 with 1 Axes>"
      ]
     },
     "metadata": {
      "needs_background": "light"
     },
     "output_type": "display_data"
    }
   ],
   "source": [
    "sns.countplot(df['Pclass']).set(title = 'Ticket class -> 1 = 1st, 2 = 2nd, 3 = 3rd')"
   ]
  },
  {
   "cell_type": "markdown",
   "id": "8cb879dc",
   "metadata": {
    "papermill": {
     "duration": 0.013314,
     "end_time": "2022-09-24T08:59:23.689413",
     "exception": false,
     "start_time": "2022-09-24T08:59:23.676099",
     "status": "completed"
    },
    "tags": []
   },
   "source": []
  },
  {
   "cell_type": "code",
   "execution_count": 11,
   "id": "9edc8111",
   "metadata": {
    "execution": {
     "iopub.execute_input": "2022-09-24T08:59:23.718114Z",
     "iopub.status.busy": "2022-09-24T08:59:23.717714Z",
     "iopub.status.idle": "2022-09-24T08:59:23.727062Z",
     "shell.execute_reply": "2022-09-24T08:59:23.725966Z"
    },
    "papermill": {
     "duration": 0.02671,
     "end_time": "2022-09-24T08:59:23.729526",
     "exception": false,
     "start_time": "2022-09-24T08:59:23.702816",
     "status": "completed"
    },
    "tags": []
   },
   "outputs": [
    {
     "data": {
      "text/plain": [
       "1"
      ]
     },
     "execution_count": 11,
     "metadata": {},
     "output_type": "execute_result"
    }
   ],
   "source": [
    "df['Name'].value_counts().max()\n",
    "# Each name is different just like PassengerId, hence not fit for analysis."
   ]
  },
  {
   "cell_type": "code",
   "execution_count": 12,
   "id": "124fad5a",
   "metadata": {
    "execution": {
     "iopub.execute_input": "2022-09-24T08:59:23.757617Z",
     "iopub.status.busy": "2022-09-24T08:59:23.756567Z",
     "iopub.status.idle": "2022-09-24T08:59:23.766648Z",
     "shell.execute_reply": "2022-09-24T08:59:23.765629Z"
    },
    "papermill": {
     "duration": 0.026449,
     "end_time": "2022-09-24T08:59:23.769104",
     "exception": false,
     "start_time": "2022-09-24T08:59:23.742655",
     "status": "completed"
    },
    "tags": []
   },
   "outputs": [
    {
     "data": {
      "text/plain": [
       "347082      7\n",
       "CA. 2343    7\n",
       "1601        7\n",
       "3101295     6\n",
       "CA 2144     6\n",
       "           ..\n",
       "9234        1\n",
       "19988       1\n",
       "2693        1\n",
       "PC 17612    1\n",
       "370376      1\n",
       "Name: Ticket, Length: 681, dtype: int64"
      ]
     },
     "execution_count": 12,
     "metadata": {},
     "output_type": "execute_result"
    }
   ],
   "source": [
    "df[\"Ticket\"].value_counts()\n",
    "# Ticket doesn't help much as we have included SibSp and Children"
   ]
  },
  {
   "cell_type": "code",
   "execution_count": 13,
   "id": "616da707",
   "metadata": {
    "execution": {
     "iopub.execute_input": "2022-09-24T08:59:23.798291Z",
     "iopub.status.busy": "2022-09-24T08:59:23.797829Z",
     "iopub.status.idle": "2022-09-24T08:59:23.818011Z",
     "shell.execute_reply": "2022-09-24T08:59:23.816869Z"
    },
    "papermill": {
     "duration": 0.037891,
     "end_time": "2022-09-24T08:59:23.820713",
     "exception": false,
     "start_time": "2022-09-24T08:59:23.782822",
     "status": "completed"
    },
    "tags": []
   },
   "outputs": [
    {
     "data": {
      "text/html": [
       "<div>\n",
       "<style scoped>\n",
       "    .dataframe tbody tr th:only-of-type {\n",
       "        vertical-align: middle;\n",
       "    }\n",
       "\n",
       "    .dataframe tbody tr th {\n",
       "        vertical-align: top;\n",
       "    }\n",
       "\n",
       "    .dataframe thead th {\n",
       "        text-align: right;\n",
       "    }\n",
       "</style>\n",
       "<table border=\"1\" class=\"dataframe\">\n",
       "  <thead>\n",
       "    <tr style=\"text-align: right;\">\n",
       "      <th></th>\n",
       "      <th>PassengerId</th>\n",
       "      <th>Survived</th>\n",
       "      <th>Pclass</th>\n",
       "      <th>Name</th>\n",
       "      <th>Sex</th>\n",
       "      <th>Age</th>\n",
       "      <th>SibSp</th>\n",
       "      <th>Parch</th>\n",
       "      <th>Ticket</th>\n",
       "      <th>Fare</th>\n",
       "      <th>Cabin</th>\n",
       "      <th>Embarked</th>\n",
       "    </tr>\n",
       "  </thead>\n",
       "  <tbody>\n",
       "    <tr>\n",
       "      <th>13</th>\n",
       "      <td>14</td>\n",
       "      <td>0</td>\n",
       "      <td>3</td>\n",
       "      <td>Andersson, Mr. Anders Johan</td>\n",
       "      <td>male</td>\n",
       "      <td>39.0</td>\n",
       "      <td>1</td>\n",
       "      <td>5</td>\n",
       "      <td>347082</td>\n",
       "      <td>31.275</td>\n",
       "      <td>NaN</td>\n",
       "      <td>S</td>\n",
       "    </tr>\n",
       "    <tr>\n",
       "      <th>119</th>\n",
       "      <td>120</td>\n",
       "      <td>0</td>\n",
       "      <td>3</td>\n",
       "      <td>Andersson, Miss. Ellis Anna Maria</td>\n",
       "      <td>female</td>\n",
       "      <td>2.0</td>\n",
       "      <td>4</td>\n",
       "      <td>2</td>\n",
       "      <td>347082</td>\n",
       "      <td>31.275</td>\n",
       "      <td>NaN</td>\n",
       "      <td>S</td>\n",
       "    </tr>\n",
       "    <tr>\n",
       "      <th>541</th>\n",
       "      <td>542</td>\n",
       "      <td>0</td>\n",
       "      <td>3</td>\n",
       "      <td>Andersson, Miss. Ingeborg Constanzia</td>\n",
       "      <td>female</td>\n",
       "      <td>9.0</td>\n",
       "      <td>4</td>\n",
       "      <td>2</td>\n",
       "      <td>347082</td>\n",
       "      <td>31.275</td>\n",
       "      <td>NaN</td>\n",
       "      <td>S</td>\n",
       "    </tr>\n",
       "    <tr>\n",
       "      <th>542</th>\n",
       "      <td>543</td>\n",
       "      <td>0</td>\n",
       "      <td>3</td>\n",
       "      <td>Andersson, Miss. Sigrid Elisabeth</td>\n",
       "      <td>female</td>\n",
       "      <td>11.0</td>\n",
       "      <td>4</td>\n",
       "      <td>2</td>\n",
       "      <td>347082</td>\n",
       "      <td>31.275</td>\n",
       "      <td>NaN</td>\n",
       "      <td>S</td>\n",
       "    </tr>\n",
       "    <tr>\n",
       "      <th>610</th>\n",
       "      <td>611</td>\n",
       "      <td>0</td>\n",
       "      <td>3</td>\n",
       "      <td>Andersson, Mrs. Anders Johan (Alfrida Konstant...</td>\n",
       "      <td>female</td>\n",
       "      <td>39.0</td>\n",
       "      <td>1</td>\n",
       "      <td>5</td>\n",
       "      <td>347082</td>\n",
       "      <td>31.275</td>\n",
       "      <td>NaN</td>\n",
       "      <td>S</td>\n",
       "    </tr>\n",
       "    <tr>\n",
       "      <th>813</th>\n",
       "      <td>814</td>\n",
       "      <td>0</td>\n",
       "      <td>3</td>\n",
       "      <td>Andersson, Miss. Ebba Iris Alfrida</td>\n",
       "      <td>female</td>\n",
       "      <td>6.0</td>\n",
       "      <td>4</td>\n",
       "      <td>2</td>\n",
       "      <td>347082</td>\n",
       "      <td>31.275</td>\n",
       "      <td>NaN</td>\n",
       "      <td>S</td>\n",
       "    </tr>\n",
       "    <tr>\n",
       "      <th>850</th>\n",
       "      <td>851</td>\n",
       "      <td>0</td>\n",
       "      <td>3</td>\n",
       "      <td>Andersson, Master. Sigvard Harald Elias</td>\n",
       "      <td>male</td>\n",
       "      <td>4.0</td>\n",
       "      <td>4</td>\n",
       "      <td>2</td>\n",
       "      <td>347082</td>\n",
       "      <td>31.275</td>\n",
       "      <td>NaN</td>\n",
       "      <td>S</td>\n",
       "    </tr>\n",
       "  </tbody>\n",
       "</table>\n",
       "</div>"
      ],
      "text/plain": [
       "     PassengerId  Survived  Pclass  \\\n",
       "13            14         0       3   \n",
       "119          120         0       3   \n",
       "541          542         0       3   \n",
       "542          543         0       3   \n",
       "610          611         0       3   \n",
       "813          814         0       3   \n",
       "850          851         0       3   \n",
       "\n",
       "                                                  Name     Sex   Age  SibSp  \\\n",
       "13                         Andersson, Mr. Anders Johan    male  39.0      1   \n",
       "119                  Andersson, Miss. Ellis Anna Maria  female   2.0      4   \n",
       "541               Andersson, Miss. Ingeborg Constanzia  female   9.0      4   \n",
       "542                  Andersson, Miss. Sigrid Elisabeth  female  11.0      4   \n",
       "610  Andersson, Mrs. Anders Johan (Alfrida Konstant...  female  39.0      1   \n",
       "813                 Andersson, Miss. Ebba Iris Alfrida  female   6.0      4   \n",
       "850            Andersson, Master. Sigvard Harald Elias    male   4.0      4   \n",
       "\n",
       "     Parch  Ticket    Fare Cabin Embarked  \n",
       "13       5  347082  31.275   NaN        S  \n",
       "119      2  347082  31.275   NaN        S  \n",
       "541      2  347082  31.275   NaN        S  \n",
       "542      2  347082  31.275   NaN        S  \n",
       "610      5  347082  31.275   NaN        S  \n",
       "813      2  347082  31.275   NaN        S  \n",
       "850      2  347082  31.275   NaN        S  "
      ]
     },
     "execution_count": 13,
     "metadata": {},
     "output_type": "execute_result"
    }
   ],
   "source": [
    "df[df['Ticket'] == '347082']\n",
    "# We see that people with the same Ticket are usually from the same family."
   ]
  },
  {
   "cell_type": "code",
   "execution_count": 14,
   "id": "f4b39941",
   "metadata": {
    "execution": {
     "iopub.execute_input": "2022-09-24T08:59:23.851713Z",
     "iopub.status.busy": "2022-09-24T08:59:23.850918Z",
     "iopub.status.idle": "2022-09-24T08:59:23.859491Z",
     "shell.execute_reply": "2022-09-24T08:59:23.858392Z"
    },
    "papermill": {
     "duration": 0.026019,
     "end_time": "2022-09-24T08:59:23.861843",
     "exception": false,
     "start_time": "2022-09-24T08:59:23.835824",
     "status": "completed"
    },
    "tags": []
   },
   "outputs": [
    {
     "data": {
      "text/plain": [
       "male      577\n",
       "female    314\n",
       "Name: Sex, dtype: int64"
      ]
     },
     "execution_count": 14,
     "metadata": {},
     "output_type": "execute_result"
    }
   ],
   "source": [
    "df['Sex'].value_counts()"
   ]
  },
  {
   "cell_type": "code",
   "execution_count": 15,
   "id": "eeab3122",
   "metadata": {
    "execution": {
     "iopub.execute_input": "2022-09-24T08:59:23.893049Z",
     "iopub.status.busy": "2022-09-24T08:59:23.892675Z",
     "iopub.status.idle": "2022-09-24T08:59:24.091812Z",
     "shell.execute_reply": "2022-09-24T08:59:24.089895Z"
    },
    "papermill": {
     "duration": 0.218338,
     "end_time": "2022-09-24T08:59:24.095305",
     "exception": false,
     "start_time": "2022-09-24T08:59:23.876967",
     "status": "completed"
    },
    "tags": []
   },
   "outputs": [
    {
     "name": "stderr",
     "output_type": "stream",
     "text": [
      "/opt/conda/lib/python3.7/site-packages/seaborn/_decorators.py:43: FutureWarning: Pass the following variable as a keyword arg: x. From version 0.12, the only valid positional argument will be `data`, and passing other arguments without an explicit keyword will result in an error or misinterpretation.\n",
      "  FutureWarning\n"
     ]
    },
    {
     "data": {
      "text/plain": [
       "<AxesSubplot:xlabel='Sex', ylabel='count'>"
      ]
     },
     "execution_count": 15,
     "metadata": {},
     "output_type": "execute_result"
    },
    {
     "data": {
      "image/png": "[encoded data removed]",
      "text/plain": [
       "<Figure size 432x288 with 1 Axes>"
      ]
     },
     "metadata": {
      "needs_background": "light"
     },
     "output_type": "display_data"
    }
   ],
   "source": [
    "sns.countplot(df['Sex'])\n",
    "# Male passengers were more than Female passengers"
   ]
  },
  {
   "cell_type": "code",
   "execution_count": 16,
   "id": "44505c31",
   "metadata": {
    "execution": {
     "iopub.execute_input": "2022-09-24T08:59:24.137776Z",
     "iopub.status.busy": "2022-09-24T08:59:24.137267Z",
     "iopub.status.idle": "2022-09-24T08:59:24.147226Z",
     "shell.execute_reply": "2022-09-24T08:59:24.145767Z"
    },
    "papermill": {
     "duration": 0.035951,
     "end_time": "2022-09-24T08:59:24.149316",
     "exception": false,
     "start_time": "2022-09-24T08:59:24.113365",
     "status": "completed"
    },
    "tags": []
   },
   "outputs": [
    {
     "data": {
      "text/plain": [
       "0    608\n",
       "1    209\n",
       "2     28\n",
       "4     18\n",
       "3     16\n",
       "8      7\n",
       "5      5\n",
       "Name: SibSp, dtype: int64"
      ]
     },
     "execution_count": 16,
     "metadata": {},
     "output_type": "execute_result"
    }
   ],
   "source": [
    "# SibSp -> Number of Siblings and spouses that were on the titanic.\n",
    "df['SibSp'].value_counts()"
   ]
  },
  {
   "cell_type": "code",
   "execution_count": 17,
   "id": "85046d94",
   "metadata": {
    "execution": {
     "iopub.execute_input": "2022-09-24T08:59:24.179726Z",
     "iopub.status.busy": "2022-09-24T08:59:24.179050Z",
     "iopub.status.idle": "2022-09-24T08:59:24.398584Z",
     "shell.execute_reply": "2022-09-24T08:59:24.397830Z"
    },
    "papermill": {
     "duration": 0.237329,
     "end_time": "2022-09-24T08:59:24.400739",
     "exception": false,
     "start_time": "2022-09-24T08:59:24.163410",
     "status": "completed"
    },
    "tags": []
   },
   "outputs": [
    {
     "name": "stderr",
     "output_type": "stream",
     "text": [
      "/opt/conda/lib/python3.7/site-packages/seaborn/_decorators.py:43: FutureWarning: Pass the following variable as a keyword arg: x. From version 0.12, the only valid positional argument will be `data`, and passing other arguments without an explicit keyword will result in an error or misinterpretation.\n",
      "  FutureWarning\n"
     ]
    },
    {
     "data": {
      "text/plain": [
       "[Text(0.5, 1.0, 'No.of siblings/spouse aboard')]"
      ]
     },
     "execution_count": 17,
     "metadata": {},
     "output_type": "execute_result"
    },
    {
     "data": {
      "image/png": "[encoded data removed]",
      "text/plain": [
       "<Figure size 432x288 with 1 Axes>"
      ]
     },
     "metadata": {
      "needs_background": "light"
     },
     "output_type": "display_data"
    }
   ],
   "source": [
    "sns.countplot(df['SibSp']).set(title = 'No.of siblings/spouse aboard')"
   ]
  },
  {
   "cell_type": "code",
   "execution_count": 18,
   "id": "479fec09",
   "metadata": {
    "execution": {
     "iopub.execute_input": "2022-09-24T08:59:24.433406Z",
     "iopub.status.busy": "2022-09-24T08:59:24.432725Z",
     "iopub.status.idle": "2022-09-24T08:59:24.599677Z",
     "shell.execute_reply": "2022-09-24T08:59:24.598548Z"
    },
    "papermill": {
     "duration": 0.18654,
     "end_time": "2022-09-24T08:59:24.602629",
     "exception": false,
     "start_time": "2022-09-24T08:59:24.416089",
     "status": "completed"
    },
    "tags": []
   },
   "outputs": [
    {
     "name": "stderr",
     "output_type": "stream",
     "text": [
      "/opt/conda/lib/python3.7/site-packages/seaborn/_decorators.py:43: FutureWarning: Pass the following variable as a keyword arg: x. From version 0.12, the only valid positional argument will be `data`, and passing other arguments without an explicit keyword will result in an error or misinterpretation.\n",
      "  FutureWarning\n"
     ]
    },
    {
     "data": {
      "text/plain": [
       "[Text(0.5, 1.0, 'No.of siblings/spouse aboard')]"
      ]
     },
     "execution_count": 18,
     "metadata": {},
     "output_type": "execute_result"
    },
    {
     "data": {
      "image/png": "[encoded data removed]",
      "text/plain": [
       "<Figure size 432x288 with 1 Axes>"
      ]
     },
     "metadata": {
      "needs_background": "light"
     },
     "output_type": "display_data"
    }
   ],
   "source": [
    "sns.countplot(df[df['SibSp']!=0]['SibSp']).set(title = 'No.of siblings/spouse aboard')"
   ]
  },
  {
   "cell_type": "code",
   "execution_count": 19,
   "id": "bda15307",
   "metadata": {
    "execution": {
     "iopub.execute_input": "2022-09-24T08:59:24.638347Z",
     "iopub.status.busy": "2022-09-24T08:59:24.637895Z",
     "iopub.status.idle": "2022-09-24T08:59:24.649829Z",
     "shell.execute_reply": "2022-09-24T08:59:24.648467Z"
    },
    "papermill": {
     "duration": 0.032976,
     "end_time": "2022-09-24T08:59:24.652433",
     "exception": false,
     "start_time": "2022-09-24T08:59:24.619457",
     "status": "completed"
    },
    "tags": []
   },
   "outputs": [
    {
     "data": {
      "text/plain": [
       "count    714.000000\n",
       "mean      29.699118\n",
       "std       14.526497\n",
       "min        0.420000\n",
       "25%       20.125000\n",
       "50%       28.000000\n",
       "75%       38.000000\n",
       "max       80.000000\n",
       "Name: Age, dtype: float64"
      ]
     },
     "execution_count": 19,
     "metadata": {},
     "output_type": "execute_result"
    }
   ],
   "source": [
    "df['Age'].describe()"
   ]
  },
  {
   "cell_type": "code",
   "execution_count": 20,
   "id": "ff904408",
   "metadata": {
    "execution": {
     "iopub.execute_input": "2022-09-24T08:59:24.687280Z",
     "iopub.status.busy": "2022-09-24T08:59:24.686834Z",
     "iopub.status.idle": "2022-09-24T08:59:24.697305Z",
     "shell.execute_reply": "2022-09-24T08:59:24.696071Z"
    },
    "papermill": {
     "duration": 0.029952,
     "end_time": "2022-09-24T08:59:24.699523",
     "exception": false,
     "start_time": "2022-09-24T08:59:24.669571",
     "status": "completed"
    },
    "tags": []
   },
   "outputs": [
    {
     "data": {
      "text/plain": [
       "0    24.0\n",
       "dtype: float64"
      ]
     },
     "execution_count": 20,
     "metadata": {},
     "output_type": "execute_result"
    }
   ],
   "source": [
    "df['Age'].mode()"
   ]
  },
  {
   "cell_type": "code",
   "execution_count": 21,
   "id": "dc4b0351",
   "metadata": {
    "execution": {
     "iopub.execute_input": "2022-09-24T08:59:24.733137Z",
     "iopub.status.busy": "2022-09-24T08:59:24.732405Z",
     "iopub.status.idle": "2022-09-24T08:59:25.021091Z",
     "shell.execute_reply": "2022-09-24T08:59:25.020205Z"
    },
    "papermill": {
     "duration": 0.308143,
     "end_time": "2022-09-24T08:59:25.023508",
     "exception": false,
     "start_time": "2022-09-24T08:59:24.715365",
     "status": "completed"
    },
    "tags": []
   },
   "outputs": [
    {
     "data": {
      "text/plain": [
       "<seaborn.axisgrid.FacetGrid at 0x7f9b822f2b90>"
      ]
     },
     "execution_count": 21,
     "metadata": {},
     "output_type": "execute_result"
    },
    {
     "data": {
      "image/png": "[encoded data removed]",
      "text/plain": [
       "<Figure size 360x360 with 1 Axes>"
      ]
     },
     "metadata": {
      "needs_background": "light"
     },
     "output_type": "display_data"
    }
   ],
   "source": [
    "# Distribution of Age\n",
    "sns.displot(df['Age'], kde = True)\n",
    "# We see a right - skewed distribution"
   ]
  },
  {
   "cell_type": "code",
   "execution_count": 22,
   "id": "a87635ab",
   "metadata": {
    "execution": {
     "iopub.execute_input": "2022-09-24T08:59:25.058082Z",
     "iopub.status.busy": "2022-09-24T08:59:25.057667Z",
     "iopub.status.idle": "2022-09-24T08:59:25.212655Z",
     "shell.execute_reply": "2022-09-24T08:59:25.211546Z"
    },
    "papermill": {
     "duration": 0.175701,
     "end_time": "2022-09-24T08:59:25.215650",
     "exception": false,
     "start_time": "2022-09-24T08:59:25.039949",
     "status": "completed"
    },
    "tags": []
   },
   "outputs": [
    {
     "data": {
      "text/plain": [
       "<AxesSubplot:>"
      ]
     },
     "execution_count": 22,
     "metadata": {},
     "output_type": "execute_result"
    },
    {
     "data": {
      "image/png": "[encoded data removed]",
      "text/plain": [
       "<Figure size 432x288 with 1 Axes>"
      ]
     },
     "metadata": {
      "needs_background": "light"
     },
     "output_type": "display_data"
    }
   ],
   "source": [
    "df['Age'].plot.box()"
   ]
  },
  {
   "cell_type": "code",
   "execution_count": 23,
   "id": "9a798a6b",
   "metadata": {
    "execution": {
     "iopub.execute_input": "2022-09-24T08:59:25.253085Z",
     "iopub.status.busy": "2022-09-24T08:59:25.252661Z",
     "iopub.status.idle": "2022-09-24T08:59:25.261305Z",
     "shell.execute_reply": "2022-09-24T08:59:25.260216Z"
    },
    "papermill": {
     "duration": 0.03044,
     "end_time": "2022-09-24T08:59:25.263989",
     "exception": false,
     "start_time": "2022-09-24T08:59:25.233549",
     "status": "completed"
    },
    "tags": []
   },
   "outputs": [
    {
     "data": {
      "text/plain": [
       "0    678\n",
       "1    118\n",
       "2     80\n",
       "5      5\n",
       "3      5\n",
       "4      4\n",
       "6      1\n",
       "Name: Parch, dtype: int64"
      ]
     },
     "execution_count": 23,
     "metadata": {},
     "output_type": "execute_result"
    }
   ],
   "source": [
    "# Parch -> the number of parents/children aboard the titanic\n",
    "df['Parch'].value_counts()"
   ]
  },
  {
   "cell_type": "code",
   "execution_count": 24,
   "id": "3c045cee",
   "metadata": {
    "execution": {
     "iopub.execute_input": "2022-09-24T08:59:25.300030Z",
     "iopub.status.busy": "2022-09-24T08:59:25.299630Z",
     "iopub.status.idle": "2022-09-24T08:59:25.467563Z",
     "shell.execute_reply": "2022-09-24T08:59:25.465981Z"
    },
    "papermill": {
     "duration": 0.190659,
     "end_time": "2022-09-24T08:59:25.471526",
     "exception": false,
     "start_time": "2022-09-24T08:59:25.280867",
     "status": "completed"
    },
    "tags": []
   },
   "outputs": [
    {
     "name": "stderr",
     "output_type": "stream",
     "text": [
      "/opt/conda/lib/python3.7/site-packages/seaborn/_decorators.py:43: FutureWarning: Pass the following variable as a keyword arg: x. From version 0.12, the only valid positional argument will be `data`, and passing other arguments without an explicit keyword will result in an error or misinterpretation.\n",
      "  FutureWarning\n"
     ]
    },
    {
     "data": {
      "text/plain": [
       "[Text(0.5, 1.0, 'The number of parents/children aboard the titanic')]"
      ]
     },
     "execution_count": 24,
     "metadata": {},
     "output_type": "execute_result"
    },
    {
     "data": {
      "image/png": "[encoded data removed]",
      "text/plain": [
       "<Figure size 432x288 with 1 Axes>"
      ]
     },
     "metadata": {
      "needs_background": "light"
     },
     "output_type": "display_data"
    }
   ],
   "source": [
    "sns.countplot(df['Parch']).set(title = 'The number of parents/children aboard the titanic')"
   ]
  },
  {
   "cell_type": "code",
   "execution_count": 25,
   "id": "43f7371e",
   "metadata": {
    "execution": {
     "iopub.execute_input": "2022-09-24T08:59:25.512766Z",
     "iopub.status.busy": "2022-09-24T08:59:25.511760Z",
     "iopub.status.idle": "2022-09-24T08:59:25.522739Z",
     "shell.execute_reply": "2022-09-24T08:59:25.521653Z"
    },
    "papermill": {
     "duration": 0.031421,
     "end_time": "2022-09-24T08:59:25.524898",
     "exception": false,
     "start_time": "2022-09-24T08:59:25.493477",
     "status": "completed"
    },
    "tags": []
   },
   "outputs": [
    {
     "data": {
      "text/plain": [
       "count    891.000000\n",
       "mean      32.204208\n",
       "std       49.693429\n",
       "min        0.000000\n",
       "25%        7.910400\n",
       "50%       14.454200\n",
       "75%       31.000000\n",
       "max      512.329200\n",
       "Name: Fare, dtype: float64"
      ]
     },
     "execution_count": 25,
     "metadata": {},
     "output_type": "execute_result"
    }
   ],
   "source": [
    "df['Fare'].describe()"
   ]
  },
  {
   "cell_type": "code",
   "execution_count": 26,
   "id": "a6a3e251",
   "metadata": {
    "execution": {
     "iopub.execute_input": "2022-09-24T08:59:25.560456Z",
     "iopub.status.busy": "2022-09-24T08:59:25.559742Z",
     "iopub.status.idle": "2022-09-24T08:59:25.798120Z",
     "shell.execute_reply": "2022-09-24T08:59:25.796896Z"
    },
    "papermill": {
     "duration": 0.258827,
     "end_time": "2022-09-24T08:59:25.800542",
     "exception": false,
     "start_time": "2022-09-24T08:59:25.541715",
     "status": "completed"
    },
    "tags": []
   },
   "outputs": [
    {
     "data": {
      "text/plain": [
       "<AxesSubplot:xlabel='Fare', ylabel='Density'>"
      ]
     },
     "execution_count": 26,
     "metadata": {},
     "output_type": "execute_result"
    },
    {
     "data": {
      "image/png": "[encoded data removed]",
      "text/plain": [
       "<Figure size 432x288 with 1 Axes>"
      ]
     },
     "metadata": {
      "needs_background": "light"
     },
     "output_type": "display_data"
    }
   ],
   "source": [
    "sns.kdeplot(df['Fare'])\n",
    "# Most people travelled with a Lower Fare"
   ]
  },
  {
   "cell_type": "code",
   "execution_count": 27,
   "id": "ddcfc816",
   "metadata": {
    "execution": {
     "iopub.execute_input": "2022-09-24T08:59:25.838281Z",
     "iopub.status.busy": "2022-09-24T08:59:25.837857Z",
     "iopub.status.idle": "2022-09-24T08:59:26.020617Z",
     "shell.execute_reply": "2022-09-24T08:59:26.019501Z"
    },
    "papermill": {
     "duration": 0.204174,
     "end_time": "2022-09-24T08:59:26.023001",
     "exception": false,
     "start_time": "2022-09-24T08:59:25.818827",
     "status": "completed"
    },
    "tags": []
   },
   "outputs": [
    {
     "data": {
      "text/plain": [
       "<AxesSubplot:>"
      ]
     },
     "execution_count": 27,
     "metadata": {},
     "output_type": "execute_result"
    },
    {
     "data": {
      "image/png": "[encoded data removed]",
      "text/plain": [
       "<Figure size 432x288 with 1 Axes>"
      ]
     },
     "metadata": {
      "needs_background": "light"
     },
     "output_type": "display_data"
    }
   ],
   "source": [
    "df['Fare'].plot.box()\n"
   ]
  },
  {
   "cell_type": "code",
   "execution_count": 28,
   "id": "4e5cefd4",
   "metadata": {
    "execution": {
     "iopub.execute_input": "2022-09-24T08:59:26.061361Z",
     "iopub.status.busy": "2022-09-24T08:59:26.060551Z",
     "iopub.status.idle": "2022-09-24T08:59:26.251313Z",
     "shell.execute_reply": "2022-09-24T08:59:26.250093Z"
    },
    "papermill": {
     "duration": 0.212578,
     "end_time": "2022-09-24T08:59:26.253819",
     "exception": false,
     "start_time": "2022-09-24T08:59:26.041241",
     "status": "completed"
    },
    "tags": []
   },
   "outputs": [
    {
     "name": "stderr",
     "output_type": "stream",
     "text": [
      "/opt/conda/lib/python3.7/site-packages/seaborn/_decorators.py:43: FutureWarning: Pass the following variable as a keyword arg: x. From version 0.12, the only valid positional argument will be `data`, and passing other arguments without an explicit keyword will result in an error or misinterpretation.\n",
      "  FutureWarning\n",
      "/opt/conda/lib/python3.7/site-packages/seaborn/_core.py:1326: UserWarning: Vertical orientation ignored with only `x` specified.\n",
      "  warnings.warn(single_var_warning.format(\"Vertical\", \"x\"))\n"
     ]
    },
    {
     "data": {
      "text/plain": [
       "[(-10.0, 100.0)]"
      ]
     },
     "execution_count": 28,
     "metadata": {},
     "output_type": "execute_result"
    },
    {
     "data": {
      "image/png": "[encoded data removed]",
      "text/plain": [
       "<Figure size 432x288 with 1 Axes>"
      ]
     },
     "metadata": {
      "needs_background": "light"
     },
     "output_type": "display_data"
    }
   ],
   "source": [
    "sns.boxplot(df['Fare'], orient = 'v').set(xlim = (-10,100))"
   ]
  },
  {
   "cell_type": "code",
   "execution_count": 29,
   "id": "c3e752f0",
   "metadata": {
    "execution": {
     "iopub.execute_input": "2022-09-24T08:59:26.295811Z",
     "iopub.status.busy": "2022-09-24T08:59:26.294790Z",
     "iopub.status.idle": "2022-09-24T08:59:26.304249Z",
     "shell.execute_reply": "2022-09-24T08:59:26.303080Z"
    },
    "papermill": {
     "duration": 0.033238,
     "end_time": "2022-09-24T08:59:26.306600",
     "exception": false,
     "start_time": "2022-09-24T08:59:26.273362",
     "status": "completed"
    },
    "tags": []
   },
   "outputs": [
    {
     "data": {
      "text/plain": [
       "B96 B98        4\n",
       "G6             4\n",
       "C23 C25 C27    4\n",
       "C22 C26        3\n",
       "F33            3\n",
       "              ..\n",
       "E34            1\n",
       "C7             1\n",
       "C54            1\n",
       "E36            1\n",
       "C148           1\n",
       "Name: Cabin, Length: 147, dtype: int64"
      ]
     },
     "execution_count": 29,
     "metadata": {},
     "output_type": "execute_result"
    }
   ],
   "source": [
    "# Cabin -> Cabin Number\n",
    "df['Cabin'].value_counts()"
   ]
  },
  {
   "cell_type": "code",
   "execution_count": 30,
   "id": "844b808e",
   "metadata": {
    "execution": {
     "iopub.execute_input": "2022-09-24T08:59:26.343559Z",
     "iopub.status.busy": "2022-09-24T08:59:26.343082Z",
     "iopub.status.idle": "2022-09-24T08:59:28.352111Z",
     "shell.execute_reply": "2022-09-24T08:59:28.350962Z"
    },
    "papermill": {
     "duration": 2.030164,
     "end_time": "2022-09-24T08:59:28.354704",
     "exception": false,
     "start_time": "2022-09-24T08:59:26.324540",
     "status": "completed"
    },
    "tags": []
   },
   "outputs": [
    {
     "name": "stderr",
     "output_type": "stream",
     "text": [
      "/opt/conda/lib/python3.7/site-packages/seaborn/_decorators.py:43: FutureWarning: Pass the following variable as a keyword arg: x. From version 0.12, the only valid positional argument will be `data`, and passing other arguments without an explicit keyword will result in an error or misinterpretation.\n",
      "  FutureWarning\n"
     ]
    },
    {
     "data": {
      "text/plain": [
       "<AxesSubplot:xlabel='Cabin', ylabel='count'>"
      ]
     },
     "execution_count": 30,
     "metadata": {},
     "output_type": "execute_result"
    },
    {
     "data": {
      "image/png": "[encoded data removed]",
      "text/plain": [
       "<Figure size 432x288 with 1 Axes>"
      ]
     },
     "metadata": {
      "needs_background": "light"
     },
     "output_type": "display_data"
    }
   ],
   "source": [
    "sns.countplot(df['Cabin'])"
   ]
  },
  {
   "cell_type": "code",
   "execution_count": 31,
   "id": "6a85acf6",
   "metadata": {
    "execution": {
     "iopub.execute_input": "2022-09-24T08:59:28.393246Z",
     "iopub.status.busy": "2022-09-24T08:59:28.392833Z",
     "iopub.status.idle": "2022-09-24T08:59:28.400599Z",
     "shell.execute_reply": "2022-09-24T08:59:28.399683Z"
    },
    "papermill": {
     "duration": 0.029308,
     "end_time": "2022-09-24T08:59:28.402572",
     "exception": false,
     "start_time": "2022-09-24T08:59:28.373264",
     "status": "completed"
    },
    "tags": []
   },
   "outputs": [
    {
     "data": {
      "text/plain": [
       "S    644\n",
       "C    168\n",
       "Q     77\n",
       "Name: Embarked, dtype: int64"
      ]
     },
     "execution_count": 31,
     "metadata": {},
     "output_type": "execute_result"
    }
   ],
   "source": [
    "# Embarked -> Port of Embarkation, C = Cherbourg, Q = Queenstown, S = Southampton\n",
    "df['Embarked'].value_counts()"
   ]
  },
  {
   "cell_type": "code",
   "execution_count": 32,
   "id": "f66c7d49",
   "metadata": {
    "execution": {
     "iopub.execute_input": "2022-09-24T08:59:28.440959Z",
     "iopub.status.busy": "2022-09-24T08:59:28.439874Z",
     "iopub.status.idle": "2022-09-24T08:59:28.644863Z",
     "shell.execute_reply": "2022-09-24T08:59:28.643718Z"
    },
    "papermill": {
     "duration": 0.226397,
     "end_time": "2022-09-24T08:59:28.647088",
     "exception": false,
     "start_time": "2022-09-24T08:59:28.420691",
     "status": "completed"
    },
    "tags": []
   },
   "outputs": [
    {
     "name": "stderr",
     "output_type": "stream",
     "text": [
      "/opt/conda/lib/python3.7/site-packages/seaborn/_decorators.py:43: FutureWarning: Pass the following variable as a keyword arg: x. From version 0.12, the only valid positional argument will be `data`, and passing other arguments without an explicit keyword will result in an error or misinterpretation.\n",
      "  FutureWarning\n"
     ]
    },
    {
     "data": {
      "text/plain": [
       "[Text(0.5, 1.0, 'Port of Embarkation, C = Cherbourg, Q = Queenstown, S = Southampton')]"
      ]
     },
     "execution_count": 32,
     "metadata": {},
     "output_type": "execute_result"
    },
    {
     "data": {
      "image/png": "[encoded data removed]",
      "text/plain": [
       "<Figure size 432x288 with 1 Axes>"
      ]
     },
     "metadata": {
      "needs_background": "light"
     },
     "output_type": "display_data"
    }
   ],
   "source": [
    "sns.countplot(df['Embarked']).set(title = 'Port of Embarkation, C = Cherbourg, Q = Queenstown, S = Southampton')"
   ]
  },
  {
   "cell_type": "code",
   "execution_count": 33,
   "id": "55baaf72",
   "metadata": {
    "execution": {
     "iopub.execute_input": "2022-09-24T08:59:28.685531Z",
     "iopub.status.busy": "2022-09-24T08:59:28.685115Z",
     "iopub.status.idle": "2022-09-24T08:59:28.694621Z",
     "shell.execute_reply": "2022-09-24T08:59:28.693590Z"
    },
    "papermill": {
     "duration": 0.031045,
     "end_time": "2022-09-24T08:59:28.696616",
     "exception": false,
     "start_time": "2022-09-24T08:59:28.665571",
     "status": "completed"
    },
    "tags": []
   },
   "outputs": [
    {
     "data": {
      "text/plain": [
       "PassengerId      0\n",
       "Survived         0\n",
       "Pclass           0\n",
       "Name             0\n",
       "Sex              0\n",
       "Age            177\n",
       "SibSp            0\n",
       "Parch            0\n",
       "Ticket           0\n",
       "Fare             0\n",
       "Cabin          687\n",
       "Embarked         2\n",
       "dtype: int64"
      ]
     },
     "execution_count": 33,
     "metadata": {},
     "output_type": "execute_result"
    }
   ],
   "source": [
    "df.isnull().sum()"
   ]
  },
  {
   "cell_type": "markdown",
   "id": "25caf455",
   "metadata": {
    "papermill": {
     "duration": 0.017968,
     "end_time": "2022-09-24T08:59:28.732953",
     "exception": false,
     "start_time": "2022-09-24T08:59:28.714985",
     "status": "completed"
    },
    "tags": []
   },
   "source": []
  },
  {
   "cell_type": "markdown",
   "id": "95182e9a",
   "metadata": {
    "papermill": {
     "duration": 0.018069,
     "end_time": "2022-09-24T08:59:28.769448",
     "exception": false,
     "start_time": "2022-09-24T08:59:28.751379",
     "status": "completed"
    },
    "tags": []
   },
   "source": [
    "### Probability and Correlation"
   ]
  },
  {
   "cell_type": "code",
   "execution_count": 34,
   "id": "72ee1270",
   "metadata": {
    "execution": {
     "iopub.execute_input": "2022-09-24T08:59:28.808080Z",
     "iopub.status.busy": "2022-09-24T08:59:28.807680Z",
     "iopub.status.idle": "2022-09-24T08:59:28.831867Z",
     "shell.execute_reply": "2022-09-24T08:59:28.830817Z"
    },
    "papermill": {
     "duration": 0.04622,
     "end_time": "2022-09-24T08:59:28.834110",
     "exception": false,
     "start_time": "2022-09-24T08:59:28.787890",
     "status": "completed"
    },
    "tags": []
   },
   "outputs": [
    {
     "data": {
      "text/html": [
       "<div>\n",
       "<style scoped>\n",
       "    .dataframe tbody tr th:only-of-type {\n",
       "        vertical-align: middle;\n",
       "    }\n",
       "\n",
       "    .dataframe tbody tr th {\n",
       "        vertical-align: top;\n",
       "    }\n",
       "\n",
       "    .dataframe thead th {\n",
       "        text-align: right;\n",
       "    }\n",
       "</style>\n",
       "<table border=\"1\" class=\"dataframe\">\n",
       "  <thead>\n",
       "    <tr style=\"text-align: right;\">\n",
       "      <th>Survived</th>\n",
       "      <th>0</th>\n",
       "      <th>1</th>\n",
       "    </tr>\n",
       "    <tr>\n",
       "      <th>Sex</th>\n",
       "      <th></th>\n",
       "      <th></th>\n",
       "    </tr>\n",
       "  </thead>\n",
       "  <tbody>\n",
       "    <tr>\n",
       "      <th>female</th>\n",
       "      <td>81</td>\n",
       "      <td>233</td>\n",
       "    </tr>\n",
       "    <tr>\n",
       "      <th>male</th>\n",
       "      <td>468</td>\n",
       "      <td>109</td>\n",
       "    </tr>\n",
       "  </tbody>\n",
       "</table>\n",
       "</div>"
      ],
      "text/plain": [
       "Survived    0    1\n",
       "Sex               \n",
       "female     81  233\n",
       "male      468  109"
      ]
     },
     "execution_count": 34,
     "metadata": {},
     "output_type": "execute_result"
    }
   ],
   "source": [
    "# According to Gender/Sex\n",
    "pd.crosstab(index = df['Sex'], columns = df['Survived'])"
   ]
  },
  {
   "cell_type": "code",
   "execution_count": 35,
   "id": "fa816676",
   "metadata": {
    "execution": {
     "iopub.execute_input": "2022-09-24T08:59:28.873194Z",
     "iopub.status.busy": "2022-09-24T08:59:28.872760Z",
     "iopub.status.idle": "2022-09-24T08:59:28.916181Z",
     "shell.execute_reply": "2022-09-24T08:59:28.914944Z"
    },
    "papermill": {
     "duration": 0.065877,
     "end_time": "2022-09-24T08:59:28.918636",
     "exception": false,
     "start_time": "2022-09-24T08:59:28.852759",
     "status": "completed"
    },
    "tags": []
   },
   "outputs": [
    {
     "data": {
      "text/html": [
       "<div>\n",
       "<style scoped>\n",
       "    .dataframe tbody tr th:only-of-type {\n",
       "        vertical-align: middle;\n",
       "    }\n",
       "\n",
       "    .dataframe tbody tr th {\n",
       "        vertical-align: top;\n",
       "    }\n",
       "\n",
       "    .dataframe thead th {\n",
       "        text-align: right;\n",
       "    }\n",
       "</style>\n",
       "<table border=\"1\" class=\"dataframe\">\n",
       "  <thead>\n",
       "    <tr style=\"text-align: right;\">\n",
       "      <th>Survived</th>\n",
       "      <th>0</th>\n",
       "      <th>1</th>\n",
       "    </tr>\n",
       "    <tr>\n",
       "      <th>Sex</th>\n",
       "      <th></th>\n",
       "      <th></th>\n",
       "    </tr>\n",
       "  </thead>\n",
       "  <tbody>\n",
       "    <tr>\n",
       "      <th>female</th>\n",
       "      <td>0.257962</td>\n",
       "      <td>0.742038</td>\n",
       "    </tr>\n",
       "    <tr>\n",
       "      <th>male</th>\n",
       "      <td>0.811092</td>\n",
       "      <td>0.188908</td>\n",
       "    </tr>\n",
       "    <tr>\n",
       "      <th>All</th>\n",
       "      <td>0.616162</td>\n",
       "      <td>0.383838</td>\n",
       "    </tr>\n",
       "  </tbody>\n",
       "</table>\n",
       "</div>"
      ],
      "text/plain": [
       "Survived         0         1\n",
       "Sex                         \n",
       "female    0.257962  0.742038\n",
       "male      0.811092  0.188908\n",
       "All       0.616162  0.383838"
      ]
     },
     "execution_count": 35,
     "metadata": {},
     "output_type": "execute_result"
    }
   ],
   "source": [
    "pd.crosstab(index = df['Sex'], columns = df['Survived'], normalize = 'index', margins=True)"
   ]
  },
  {
   "cell_type": "markdown",
   "id": "88307b98",
   "metadata": {
    "papermill": {
     "duration": 0.018674,
     "end_time": "2022-09-24T08:59:28.956479",
     "exception": false,
     "start_time": "2022-09-24T08:59:28.937805",
     "status": "completed"
    },
    "tags": []
   },
   "source": [
    "Survived -> 0 = No, 1 = Yes\n",
    "\n",
    "The total chance of Surviving the Titanic diaster is just __0.383__\n",
    "\n",
    "__61.6%__ of the passengers did not survive the Titanic sinking.\n",
    "\n",
    "Therefore,\n",
    "\n",
    "the probability of being a Female and surviving is __0.742__\n",
    "\n",
    "the probability of being a male and surviving is __0.188__\n"
   ]
  },
  {
   "cell_type": "code",
   "execution_count": 36,
   "id": "609b19d9",
   "metadata": {
    "execution": {
     "iopub.execute_input": "2022-09-24T08:59:28.995740Z",
     "iopub.status.busy": "2022-09-24T08:59:28.995215Z",
     "iopub.status.idle": "2022-09-24T08:59:29.037272Z",
     "shell.execute_reply": "2022-09-24T08:59:29.036173Z"
    },
    "papermill": {
     "duration": 0.064149,
     "end_time": "2022-09-24T08:59:29.039547",
     "exception": false,
     "start_time": "2022-09-24T08:59:28.975398",
     "status": "completed"
    },
    "tags": []
   },
   "outputs": [
    {
     "data": {
      "text/html": [
       "<div>\n",
       "<style scoped>\n",
       "    .dataframe tbody tr th:only-of-type {\n",
       "        vertical-align: middle;\n",
       "    }\n",
       "\n",
       "    .dataframe tbody tr th {\n",
       "        vertical-align: top;\n",
       "    }\n",
       "\n",
       "    .dataframe thead th {\n",
       "        text-align: right;\n",
       "    }\n",
       "</style>\n",
       "<table border=\"1\" class=\"dataframe\">\n",
       "  <thead>\n",
       "    <tr style=\"text-align: right;\">\n",
       "      <th>Survived</th>\n",
       "      <th>0</th>\n",
       "      <th>1</th>\n",
       "    </tr>\n",
       "    <tr>\n",
       "      <th>Pclass</th>\n",
       "      <th></th>\n",
       "      <th></th>\n",
       "    </tr>\n",
       "  </thead>\n",
       "  <tbody>\n",
       "    <tr>\n",
       "      <th>1</th>\n",
       "      <td>0.370370</td>\n",
       "      <td>0.629630</td>\n",
       "    </tr>\n",
       "    <tr>\n",
       "      <th>2</th>\n",
       "      <td>0.527174</td>\n",
       "      <td>0.472826</td>\n",
       "    </tr>\n",
       "    <tr>\n",
       "      <th>3</th>\n",
       "      <td>0.757637</td>\n",
       "      <td>0.242363</td>\n",
       "    </tr>\n",
       "    <tr>\n",
       "      <th>All</th>\n",
       "      <td>0.616162</td>\n",
       "      <td>0.383838</td>\n",
       "    </tr>\n",
       "  </tbody>\n",
       "</table>\n",
       "</div>"
      ],
      "text/plain": [
       "Survived         0         1\n",
       "Pclass                      \n",
       "1         0.370370  0.629630\n",
       "2         0.527174  0.472826\n",
       "3         0.757637  0.242363\n",
       "All       0.616162  0.383838"
      ]
     },
     "execution_count": 36,
     "metadata": {},
     "output_type": "execute_result"
    }
   ],
   "source": [
    "# According to Ticket Class\n",
    "pd.crosstab(index = df['Pclass'], columns = df['Survived'], normalize = 'index', margins=True)"
   ]
  },
  {
   "cell_type": "markdown",
   "id": "40d90aa5",
   "metadata": {
    "papermill": {
     "duration": 0.01871,
     "end_time": "2022-09-24T08:59:29.077246",
     "exception": false,
     "start_time": "2022-09-24T08:59:29.058536",
     "status": "completed"
    },
    "tags": []
   },
   "source": [
    "The highest chance of surviving the Titanic seems to be if you were a part of the 1st class i.e. __0.629630__\n",
    "\n"
   ]
  },
  {
   "cell_type": "code",
   "execution_count": 37,
   "id": "e7add4b2",
   "metadata": {
    "execution": {
     "iopub.execute_input": "2022-09-24T08:59:29.116549Z",
     "iopub.status.busy": "2022-09-24T08:59:29.116104Z",
     "iopub.status.idle": "2022-09-24T08:59:29.393233Z",
     "shell.execute_reply": "2022-09-24T08:59:29.392210Z"
    },
    "papermill": {
     "duration": 0.299598,
     "end_time": "2022-09-24T08:59:29.395702",
     "exception": false,
     "start_time": "2022-09-24T08:59:29.096104",
     "status": "completed"
    },
    "tags": []
   },
   "outputs": [
    {
     "data": {
      "text/plain": [
       "<AxesSubplot:>"
      ]
     },
     "execution_count": 37,
     "metadata": {},
     "output_type": "execute_result"
    },
    {
     "data": {
      "image/png": "[encoded data removed]",
      "text/plain": [
       "<Figure size 432x288 with 2 Axes>"
      ]
     },
     "metadata": {
      "needs_background": "light"
     },
     "output_type": "display_data"
    }
   ],
   "source": [
    "sns.heatmap(df[['Survived', 'SibSp', 'Parch']].corr(), annot = True)"
   ]
  },
  {
   "cell_type": "code",
   "execution_count": 38,
   "id": "f16ec550",
   "metadata": {
    "execution": {
     "iopub.execute_input": "2022-09-24T08:59:29.436440Z",
     "iopub.status.busy": "2022-09-24T08:59:29.435596Z",
     "iopub.status.idle": "2022-09-24T08:59:29.507895Z",
     "shell.execute_reply": "2022-09-24T08:59:29.506517Z"
    },
    "papermill": {
     "duration": 0.094976,
     "end_time": "2022-09-24T08:59:29.510361",
     "exception": false,
     "start_time": "2022-09-24T08:59:29.415385",
     "status": "completed"
    },
    "tags": []
   },
   "outputs": [
    {
     "name": "stdout",
     "output_type": "stream",
     "text": [
      "Survived         0         1\n",
      "SibSp                       \n",
      "0         0.654605  0.345395\n",
      "1         0.464115  0.535885\n",
      "2         0.535714  0.464286\n",
      "3         0.750000  0.250000\n",
      "4         0.833333  0.166667\n",
      "5         1.000000  0.000000\n",
      "8         1.000000  0.000000\n",
      "All       0.616162  0.383838\n",
      "----------------------------------------\n",
      "Survived         0         1\n",
      "Parch                       \n",
      "0         0.656342  0.343658\n",
      "1         0.449153  0.550847\n",
      "2         0.500000  0.500000\n",
      "3         0.400000  0.600000\n",
      "4         1.000000  0.000000\n",
      "5         0.800000  0.200000\n",
      "6         1.000000  0.000000\n",
      "All       0.616162  0.383838\n"
     ]
    }
   ],
   "source": [
    "print(pd.crosstab(index = df['SibSp'], columns = df['Survived'], normalize = 'index', margins=True))\n",
    "print('----------------------------------------')\n",
    "print(pd.crosstab(index = df['Parch'], columns = df['Survived'], normalize = 'index', margins=True))"
   ]
  },
  {
   "cell_type": "code",
   "execution_count": 39,
   "id": "359a1287",
   "metadata": {
    "execution": {
     "iopub.execute_input": "2022-09-24T08:59:29.550301Z",
     "iopub.status.busy": "2022-09-24T08:59:29.549877Z",
     "iopub.status.idle": "2022-09-24T08:59:29.588928Z",
     "shell.execute_reply": "2022-09-24T08:59:29.587578Z"
    },
    "papermill": {
     "duration": 0.062401,
     "end_time": "2022-09-24T08:59:29.592037",
     "exception": false,
     "start_time": "2022-09-24T08:59:29.529636",
     "status": "completed"
    },
    "tags": []
   },
   "outputs": [
    {
     "name": "stdout",
     "output_type": "stream",
     "text": [
      "Survived         0         1\n",
      "Embarked                    \n",
      "C         0.446429  0.553571\n",
      "Q         0.610390  0.389610\n",
      "S         0.663043  0.336957\n",
      "All       0.617548  0.382452\n"
     ]
    }
   ],
   "source": [
    "print(pd.crosstab(index = df['Embarked'], columns = df['Survived'], normalize = 'index', margins=True))"
   ]
  },
  {
   "cell_type": "markdown",
   "id": "d73a6896",
   "metadata": {
    "execution": {
     "iopub.execute_input": "2022-09-24T08:16:27.759134Z",
     "iopub.status.busy": "2022-09-24T08:16:27.758607Z",
     "iopub.status.idle": "2022-09-24T08:16:27.767432Z",
     "shell.execute_reply": "2022-09-24T08:16:27.766107Z",
     "shell.execute_reply.started": "2022-09-24T08:16:27.759090Z"
    },
    "papermill": {
     "duration": 0.019739,
     "end_time": "2022-09-24T08:59:29.631470",
     "exception": false,
     "start_time": "2022-09-24T08:59:29.611731",
     "status": "completed"
    },
    "tags": []
   },
   "source": [
    "### Chi-square Tests\n",
    "For categorical Variables"
   ]
  },
  {
   "cell_type": "code",
   "execution_count": 40,
   "id": "9fafac8d",
   "metadata": {
    "execution": {
     "iopub.execute_input": "2022-09-24T08:59:29.672944Z",
     "iopub.status.busy": "2022-09-24T08:59:29.672539Z",
     "iopub.status.idle": "2022-09-24T08:59:29.709797Z",
     "shell.execute_reply": "2022-09-24T08:59:29.708664Z"
    },
    "papermill": {
     "duration": 0.060419,
     "end_time": "2022-09-24T08:59:29.712027",
     "exception": false,
     "start_time": "2022-09-24T08:59:29.651608",
     "status": "completed"
    },
    "tags": []
   },
   "outputs": [
    {
     "data": {
      "text/html": [
       "<div>\n",
       "<style scoped>\n",
       "    .dataframe tbody tr th:only-of-type {\n",
       "        vertical-align: middle;\n",
       "    }\n",
       "\n",
       "    .dataframe tbody tr th {\n",
       "        vertical-align: top;\n",
       "    }\n",
       "\n",
       "    .dataframe thead th {\n",
       "        text-align: right;\n",
       "    }\n",
       "</style>\n",
       "<table border=\"1\" class=\"dataframe\">\n",
       "  <thead>\n",
       "    <tr style=\"text-align: right;\">\n",
       "      <th>Survived</th>\n",
       "      <th>0</th>\n",
       "      <th>1</th>\n",
       "      <th>All</th>\n",
       "    </tr>\n",
       "    <tr>\n",
       "      <th>Sex</th>\n",
       "      <th></th>\n",
       "      <th></th>\n",
       "      <th></th>\n",
       "    </tr>\n",
       "  </thead>\n",
       "  <tbody>\n",
       "    <tr>\n",
       "      <th>female</th>\n",
       "      <td>81</td>\n",
       "      <td>233</td>\n",
       "      <td>314</td>\n",
       "    </tr>\n",
       "    <tr>\n",
       "      <th>male</th>\n",
       "      <td>468</td>\n",
       "      <td>109</td>\n",
       "      <td>577</td>\n",
       "    </tr>\n",
       "    <tr>\n",
       "      <th>All</th>\n",
       "      <td>549</td>\n",
       "      <td>342</td>\n",
       "      <td>891</td>\n",
       "    </tr>\n",
       "  </tbody>\n",
       "</table>\n",
       "</div>"
      ],
      "text/plain": [
       "Survived    0    1  All\n",
       "Sex                    \n",
       "female     81  233  314\n",
       "male      468  109  577\n",
       "All       549  342  891"
      ]
     },
     "execution_count": 40,
     "metadata": {},
     "output_type": "execute_result"
    }
   ],
   "source": [
    "# h0 -> There is no significance in survival difference among male and female passengers\n",
    "# h1 -> There is significant difference in survival among male and female passengers\n",
    "sex_cont = pd.crosstab(index = df['Sex'], columns = df['Survived'], margins=True)\n",
    "sex_cont"
   ]
  },
  {
   "cell_type": "code",
   "execution_count": 41,
   "id": "77f969f6",
   "metadata": {
    "execution": {
     "iopub.execute_input": "2022-09-24T08:59:29.753717Z",
     "iopub.status.busy": "2022-09-24T08:59:29.752943Z",
     "iopub.status.idle": "2022-09-24T08:59:29.757935Z",
     "shell.execute_reply": "2022-09-24T08:59:29.756848Z"
    },
    "papermill": {
     "duration": 0.02774,
     "end_time": "2022-09-24T08:59:29.759976",
     "exception": false,
     "start_time": "2022-09-24T08:59:29.732236",
     "status": "completed"
    },
    "tags": []
   },
   "outputs": [],
   "source": [
    "sdata = sex_cont.values[:2, :2]"
   ]
  },
  {
   "cell_type": "code",
   "execution_count": 42,
   "id": "0c400698",
   "metadata": {
    "execution": {
     "iopub.execute_input": "2022-09-24T08:59:29.801669Z",
     "iopub.status.busy": "2022-09-24T08:59:29.800664Z",
     "iopub.status.idle": "2022-09-24T08:59:29.807675Z",
     "shell.execute_reply": "2022-09-24T08:59:29.806195Z"
    },
    "papermill": {
     "duration": 0.031057,
     "end_time": "2022-09-24T08:59:29.810672",
     "exception": false,
     "start_time": "2022-09-24T08:59:29.779615",
     "status": "completed"
    },
    "tags": []
   },
   "outputs": [
    {
     "name": "stdout",
     "output_type": "stream",
     "text": [
      "1.1973570627755645e-58\n",
      "Reject null hypothesis, \n",
      "There is significant difference in survival among male and female passengers\n"
     ]
    }
   ],
   "source": [
    "stat, p, dof, expected = chi2_contingency(sdata)\n",
    "print(p)\n",
    "if p<0.05:\n",
    "    print('Reject null hypothesis, \\nThere is significant difference in survival among male and female passengers')"
   ]
  },
  {
   "cell_type": "markdown",
   "id": "5a52be3c",
   "metadata": {
    "papermill": {
     "duration": 0.01939,
     "end_time": "2022-09-24T08:59:29.850272",
     "exception": false,
     "start_time": "2022-09-24T08:59:29.830882",
     "status": "completed"
    },
    "tags": []
   },
   "source": [
    "A passenger is more likely to survive if she is female."
   ]
  },
  {
   "cell_type": "code",
   "execution_count": 43,
   "id": "89351621",
   "metadata": {
    "execution": {
     "iopub.execute_input": "2022-09-24T08:59:29.891034Z",
     "iopub.status.busy": "2022-09-24T08:59:29.890631Z",
     "iopub.status.idle": "2022-09-24T08:59:29.927554Z",
     "shell.execute_reply": "2022-09-24T08:59:29.926557Z"
    },
    "papermill": {
     "duration": 0.060202,
     "end_time": "2022-09-24T08:59:29.929919",
     "exception": false,
     "start_time": "2022-09-24T08:59:29.869717",
     "status": "completed"
    },
    "tags": []
   },
   "outputs": [
    {
     "data": {
      "text/html": [
       "<div>\n",
       "<style scoped>\n",
       "    .dataframe tbody tr th:only-of-type {\n",
       "        vertical-align: middle;\n",
       "    }\n",
       "\n",
       "    .dataframe tbody tr th {\n",
       "        vertical-align: top;\n",
       "    }\n",
       "\n",
       "    .dataframe thead th {\n",
       "        text-align: right;\n",
       "    }\n",
       "</style>\n",
       "<table border=\"1\" class=\"dataframe\">\n",
       "  <thead>\n",
       "    <tr style=\"text-align: right;\">\n",
       "      <th>Survived</th>\n",
       "      <th>0</th>\n",
       "      <th>1</th>\n",
       "      <th>All</th>\n",
       "    </tr>\n",
       "    <tr>\n",
       "      <th>Pclass</th>\n",
       "      <th></th>\n",
       "      <th></th>\n",
       "      <th></th>\n",
       "    </tr>\n",
       "  </thead>\n",
       "  <tbody>\n",
       "    <tr>\n",
       "      <th>1</th>\n",
       "      <td>80</td>\n",
       "      <td>136</td>\n",
       "      <td>216</td>\n",
       "    </tr>\n",
       "    <tr>\n",
       "      <th>2</th>\n",
       "      <td>97</td>\n",
       "      <td>87</td>\n",
       "      <td>184</td>\n",
       "    </tr>\n",
       "    <tr>\n",
       "      <th>3</th>\n",
       "      <td>372</td>\n",
       "      <td>119</td>\n",
       "      <td>491</td>\n",
       "    </tr>\n",
       "    <tr>\n",
       "      <th>All</th>\n",
       "      <td>549</td>\n",
       "      <td>342</td>\n",
       "      <td>891</td>\n",
       "    </tr>\n",
       "  </tbody>\n",
       "</table>\n",
       "</div>"
      ],
      "text/plain": [
       "Survived    0    1  All\n",
       "Pclass                 \n",
       "1          80  136  216\n",
       "2          97   87  184\n",
       "3         372  119  491\n",
       "All       549  342  891"
      ]
     },
     "execution_count": 43,
     "metadata": {},
     "output_type": "execute_result"
    }
   ],
   "source": [
    "class_cont = pd.crosstab(index = df['Pclass'], columns = df['Survived'], margins=True)\n",
    "class_cont"
   ]
  },
  {
   "cell_type": "code",
   "execution_count": 44,
   "id": "9e99a0e7",
   "metadata": {
    "execution": {
     "iopub.execute_input": "2022-09-24T08:59:29.972153Z",
     "iopub.status.busy": "2022-09-24T08:59:29.971066Z",
     "iopub.status.idle": "2022-09-24T08:59:29.977578Z",
     "shell.execute_reply": "2022-09-24T08:59:29.976653Z"
    },
    "papermill": {
     "duration": 0.02963,
     "end_time": "2022-09-24T08:59:29.979679",
     "exception": false,
     "start_time": "2022-09-24T08:59:29.950049",
     "status": "completed"
    },
    "tags": []
   },
   "outputs": [
    {
     "data": {
      "text/plain": [
       "array([[ 80, 136],\n",
       "       [ 97,  87],\n",
       "       [372, 119]])"
      ]
     },
     "execution_count": 44,
     "metadata": {},
     "output_type": "execute_result"
    }
   ],
   "source": [
    "cdata  = class_cont.values[:3, :2]\n",
    "cdata"
   ]
  },
  {
   "cell_type": "code",
   "execution_count": 45,
   "id": "63e028fb",
   "metadata": {
    "execution": {
     "iopub.execute_input": "2022-09-24T08:59:30.021308Z",
     "iopub.status.busy": "2022-09-24T08:59:30.020872Z",
     "iopub.status.idle": "2022-09-24T08:59:30.026818Z",
     "shell.execute_reply": "2022-09-24T08:59:30.026099Z"
    },
    "papermill": {
     "duration": 0.029486,
     "end_time": "2022-09-24T08:59:30.029226",
     "exception": false,
     "start_time": "2022-09-24T08:59:29.999740",
     "status": "completed"
    },
    "tags": []
   },
   "outputs": [
    {
     "name": "stdout",
     "output_type": "stream",
     "text": [
      "4.549251711298793e-23\n",
      "Reject null hypothesis, \n",
      "There is significant difference in survival among passengers of different Ticket class\n"
     ]
    }
   ],
   "source": [
    "# h0 -> There is no significance in survival difference among passengers of different class\n",
    "# h1 -> There is significant difference in survival passengers among of different class\n",
    "stat, p, dof, expected = chi2_contingency(cdata)\n",
    "print(p)\n",
    "if p<0.05:\n",
    "    print('Reject null hypothesis, \\nThere is significant difference in survival among passengers of different Ticket class')"
   ]
  }
 ],
 "metadata": {
  "kernelspec": {
   "display_name": "Python 3",
   "language": "python",
   "name": "python3"
  },
  "language_info": {
   "codemirror_mode": {
    "name": "ipython",
    "version": 3
   },
   "file_extension": ".py",
   "mimetype": "text/x-python",
   "name": "python",
   "nbconvert_exporter": "python",
   "pygments_lexer": "ipython3",
   "version": "3.7.12"
  },
  "papermill": {
   "default_parameters": {},
   "duration": 17.6224,
   "end_time": "2022-09-24T08:59:30.809786",
   "environment_variables": {},
   "exception": null,
   "input_path": "__notebook__.ipynb",
   "output_path": "__notebook__.ipynb",
   "parameters": {},
   "start_time": "2022-09-24T08:59:13.187386",
   "version": "2.3.4"
  }
 },
 "nbformat": 4,
 "nbformat_minor": 5
}
